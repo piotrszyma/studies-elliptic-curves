{
 "cells": [
  {
   "cell_type": "code",
   "execution_count": 1,
   "metadata": {},
   "outputs": [],
   "source": [
    "import collections"
   ]
  },
  {
   "cell_type": "code",
   "execution_count": 2,
   "metadata": {},
   "outputs": [],
   "source": [
    "AFFINE_FILE = 'affine_20_steps.txt'\n",
    "PROJECTIVE_FILE = 'projective_20_steps.txt'"
   ]
  },
  {
   "cell_type": "code",
   "execution_count": 3,
   "metadata": {},
   "outputs": [],
   "source": [
    "def read_from_file(filename):\n",
    "    FAST = []\n",
    "    SLOW = []\n",
    "\n",
    "    with open(filename) as f:\n",
    "        for idx, l in enumerate(f):\n",
    "            try:\n",
    "\n",
    "                type_, step = l.split(' ')\n",
    "                step = step.strip()\n",
    "            except Exception as error:\n",
    "#                 print(error)\n",
    "                continue\n",
    "\n",
    "            if type_ == 'f':\n",
    "                FAST.append(step)\n",
    "            else:\n",
    "                SLOW.append(step)\n",
    "    return FAST, SLOW\n"
   ]
  },
  {
   "cell_type": "code",
   "execution_count": 4,
   "metadata": {},
   "outputs": [],
   "source": [
    "def get_counts(data):\n",
    "    counts = collections.defaultdict(int)\n",
    "\n",
    "\n",
    "    for left, right in zip(data[:-1], data[1:]):\n",
    "        counts[left + right] += 1\n",
    "        \n",
    "    return counts"
   ]
  },
  {
   "cell_type": "code",
   "execution_count": 5,
   "metadata": {},
   "outputs": [],
   "source": [
    "slow_affine, fast_affine = read_from_file(AFFINE_FILE)\n",
    "slow_projective, fast_projective = read_from_file(PROJECTIVE_FILE)"
   ]
  },
  {
   "cell_type": "code",
   "execution_count": 17,
   "metadata": {
    "scrolled": true
   },
   "outputs": [],
   "source": [
    "slow_projective_chunk = slow_projective[:len(slow_affine)]\n",
    "fast_projective_chunk = fast_projective[:len(fast_affine)]"
   ]
  },
  {
   "cell_type": "code",
   "execution_count": 29,
   "metadata": {},
   "outputs": [
    {
     "name": "stdout",
     "output_type": "stream",
     "text": [
      "s1s1\t132\n",
      "s1s2\t131\n",
      "s1s3\t159\n",
      "s2s1\t137\n",
      "s2s2\t132\n",
      "s2s3\t140\n",
      "s3s1\t154\n",
      "s3s2\t146\n",
      "s3s3\t164\n"
     ]
    }
   ],
   "source": [
    "fast_projective_counts = get_counts(fast_projective_chunk)\n",
    "counts = {key: fast_projective_counts[key] for key in sorted(fast_projective_counts)}\n",
    "\n",
    "for _step, ct in counts.items():\n",
    "    print(f'{_step}\\t{ct}')"
   ]
  },
  {
   "cell_type": "code",
   "execution_count": 32,
   "metadata": {
    "scrolled": true
   },
   "outputs": [
    {
     "name": "stdout",
     "output_type": "stream",
     "text": [
      "s1s1\t144\n",
      "s1s2\t120\n",
      "s1s3\t167\n",
      "s2s1\t131\n",
      "s2s2\t162\n",
      "s2s3\t138\n",
      "s3s1\t157\n",
      "s3s2\t149\n",
      "s3s3\t127\n"
     ]
    }
   ],
   "source": [
    "fast_affine_counts = get_counts(fast_affine)\n",
    "counts = {key: fast_affine_counts[key] for key in sorted(fast_affine_counts)}\n",
    "\n",
    "for _step, ct in counts.items():\n",
    "    print(f'{_step}\\t{ct}')"
   ]
  },
  {
   "cell_type": "code",
   "execution_count": 34,
   "metadata": {},
   "outputs": [
    {
     "name": "stdout",
     "output_type": "stream",
     "text": [
      "s1s1\t268\n",
      "s1s2\t283\n",
      "s1s3\t303\n",
      "s2s1\t287\n",
      "s2s2\t271\n",
      "s2s3\t279\n",
      "s3s1\t299\n",
      "s3s2\t283\n",
      "s3s3\t318\n"
     ]
    }
   ],
   "source": [
    "slow_projective_counts = get_counts(slow_projective_chunk)\n",
    "counts = {key: slow_projective_counts[key] for key in sorted(slow_projective_counts)}\n",
    "\n",
    "for _step, ct in counts.items():\n",
    "    print(f'{_step}\\t{ct}')"
   ]
  },
  {
   "cell_type": "code",
   "execution_count": 35,
   "metadata": {},
   "outputs": [
    {
     "name": "stdout",
     "output_type": "stream",
     "text": [
      "s1s1\t284\n",
      "s1s2\t244\n",
      "s1s3\t323\n",
      "s2s1\t247\n",
      "s2s2\t326\n",
      "s2s3\t286\n",
      "s3s1\t321\n",
      "s3s2\t289\n",
      "s3s3\t271\n"
     ]
    }
   ],
   "source": [
    "slow_affine_counts = get_counts(slow_affine)\n",
    "counts = {key: slow_affine_counts[key] for key in sorted(slow_affine_counts)}\n",
    "\n",
    "for _step, ct in counts.items():\n",
    "    print(f'{_step}\\t{ct}')"
   ]
  }
 ],
 "metadata": {
  "kernelspec": {
   "display_name": "Python 3",
   "language": "python",
   "name": "python3"
  },
  "language_info": {
   "codemirror_mode": {
    "name": "ipython",
    "version": 3
   },
   "file_extension": ".py",
   "mimetype": "text/x-python",
   "name": "python",
   "nbconvert_exporter": "python",
   "pygments_lexer": "ipython3",
   "version": "3.7.7"
  }
 },
 "nbformat": 4,
 "nbformat_minor": 4
}
