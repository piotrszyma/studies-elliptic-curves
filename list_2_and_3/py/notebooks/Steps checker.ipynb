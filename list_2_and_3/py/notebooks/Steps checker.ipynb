{
 "cells": [
  {
   "cell_type": "code",
   "execution_count": 17,
   "metadata": {},
   "outputs": [],
   "source": [
    "import collections"
   ]
  },
  {
   "cell_type": "code",
   "execution_count": 32,
   "metadata": {},
   "outputs": [],
   "source": [
    "AFFINE_FILE = 'affine_20_steps.txt'\n",
    "PROJECTIVE_FILE = 'projective_20_steps.txt'"
   ]
  },
  {
   "cell_type": "code",
   "execution_count": 36,
   "metadata": {},
   "outputs": [],
   "source": [
    "def read_from_file(filename):\n",
    "    FAST = []\n",
    "    SLOW = []\n",
    "\n",
    "    with open(filename) as f:\n",
    "        for idx, l in enumerate(f):\n",
    "            try:\n",
    "\n",
    "                type_, step = l.split(' ')\n",
    "                step = step.strip()\n",
    "            except Exception as error:\n",
    "#                 print(error)\n",
    "                continue\n",
    "\n",
    "            if type_ == 'f':\n",
    "                FAST.append(step)\n",
    "            else:\n",
    "                SLOW.append(step)\n",
    "    return FAST, SLOW\n"
   ]
  },
  {
   "cell_type": "code",
   "execution_count": 57,
   "metadata": {},
   "outputs": [],
   "source": [
    "def get_counts(data):\n",
    "    counts = collections.defaultdict(int)\n",
    "\n",
    "\n",
    "    for left, right in zip(data[:-1], data[1:]):\n",
    "        counts[left + right] += 1\n",
    "        \n",
    "    return counts"
   ]
  },
  {
   "cell_type": "code",
   "execution_count": 58,
   "metadata": {},
   "outputs": [],
   "source": [
    "slow_affine, fast_affine = read_from_file(AFFINE_FILE)\n",
    "slow_projective, fast_projective = read_from_file(PROJECTIVE_FILE)"
   ]
  },
  {
   "cell_type": "code",
   "execution_count": 59,
   "metadata": {
    "scrolled": true
   },
   "outputs": [],
   "source": [
    "slow_projective_chunk = slow_projective[:len(slow_affine)]"
   ]
  },
  {
   "cell_type": "code",
   "execution_count": 60,
   "metadata": {},
   "outputs": [
    {
     "data": {
      "text/plain": [
       "defaultdict(int,\n",
       "            {'s3s1': 299,\n",
       "             's1s2': 283,\n",
       "             's2s1': 287,\n",
       "             's1s1': 268,\n",
       "             's2s3': 279,\n",
       "             's2s2': 271,\n",
       "             's3s3': 318,\n",
       "             's3s2': 283,\n",
       "             's1s3': 303})"
      ]
     },
     "execution_count": 60,
     "metadata": {},
     "output_type": "execute_result"
    }
   ],
   "source": [
    "get_counts(slow_projective_chunk)"
   ]
  },
  {
   "cell_type": "code",
   "execution_count": 61,
   "metadata": {},
   "outputs": [
    {
     "name": "stdout",
     "output_type": "stream",
     "text": [
      "s3s3\t271\n",
      "s3s2\t289\n",
      "s2s1\t247\n",
      "s1s3\t323\n",
      "s2s3\t286\n",
      "s3s1\t321\n",
      "s1s2\t244\n",
      "s2s2\t326\n",
      "s1s1\t284\n"
     ]
    }
   ],
   "source": [
    "for _step, ct in get_counts(slow_affine).items():\n",
    "    print(f'{_step}\\t{ct}')"
   ]
  },
  {
   "cell_type": "code",
   "execution_count": 62,
   "metadata": {},
   "outputs": [
    {
     "name": "stdout",
     "output_type": "stream",
     "text": [
      "s3s1\t299\n",
      "s1s2\t283\n",
      "s2s1\t287\n",
      "s1s1\t268\n",
      "s2s3\t279\n",
      "s2s2\t271\n",
      "s3s3\t318\n",
      "s3s2\t283\n",
      "s1s3\t303\n"
     ]
    }
   ],
   "source": [
    "for _step, ct in get_counts(slow_projective_chunk).items():\n",
    "    print(f'{_step}\\t{ct}')"
   ]
  },
  {
   "cell_type": "code",
   "execution_count": null,
   "metadata": {},
   "outputs": [],
   "source": []
  }
 ],
 "metadata": {
  "kernelspec": {
   "display_name": "Python 3",
   "language": "python",
   "name": "python3"
  },
  "language_info": {
   "codemirror_mode": {
    "name": "ipython",
    "version": 3
   },
   "file_extension": ".py",
   "mimetype": "text/x-python",
   "name": "python",
   "nbconvert_exporter": "python",
   "pygments_lexer": "ipython3",
   "version": "3.7.7"
  }
 },
 "nbformat": 4,
 "nbformat_minor": 4
}
