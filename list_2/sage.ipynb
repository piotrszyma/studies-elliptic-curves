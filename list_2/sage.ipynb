{
 "cells": [
  {
   "cell_type": "code",
   "execution_count": 2,
   "metadata": {},
   "outputs": [],
   "source": [
    "def generatePrimeOrderCurve(field):\n",
    "    primeOrderCurveNotGenerated = True\n",
    "    while primeOrderCurveNotGenerated:\n",
    "        a = field.random_element()\n",
    "        b = field.random_element()\n",
    "        determinant = 4*a^3+27*b^2\n",
    "        if (determinant != 0):\n",
    "            E = EllipticCurve(field, [a, b])\n",
    "            curveOrder = E.cardinality('pari')\n",
    "            primeOrderCurveNotGenerated = not is_pseudoprime(curveOrder)\n",
    "    return (E, curveOrder)\n",
    "\n",
    "\n",
    "\n",
    "def generateDomainParameters(bitLength):\n",
    "    p = random_prime(2^bitLength-1,False,2^(bitLength-1))\n",
    "    field = GF(p)\n",
    "    E, curveOrder = generatePrimeOrderCurve(field)\n",
    "    basePoint = E.random_element()\n",
    "    checkResult = curveOrder*basePoint\n",
    "\n",
    "    if (checkResult == E(0)):\n",
    "        print(E)\n",
    "        print('Order of the curve: {}'.format(curveOrder))\n",
    "        print('Basepoint in normalized projective coordinates: {}'.format(basePoint))"
   ]
  },
  {
   "cell_type": "code",
   "execution_count": 3,
   "metadata": {},
   "outputs": [
    {
     "name": "stdout",
     "output_type": "stream",
     "text": [
      "Elliptic Curve defined by y^2 = x^3 + 236367012452*x + 74315650609 over Finite Field of size 807368793739\n",
      "Order of the curve: 807369655039\n",
      "Basepoint in normalized projective coordinates: (172235452673 : 488838007757 : 1)\n"
     ]
    }
   ],
   "source": [
    "generateDomainParameters(40)"
   ]
  },
  {
   "cell_type": "code",
   "execution_count": 4,
   "metadata": {},
   "outputs": [
    {
     "name": "stdout",
     "output_type": "stream",
     "text": [
      "Elliptic Curve defined by y^2 = x^3 + 589812106063376378*x + 886636002701168764 over Finite Field of size 1047183075602370043\n",
      "Order of the curve: 1047183076728142153\n",
      "Basepoint in normalized projective coordinates: (452081309686138386 : 880597055784647773 : 1)\n"
     ]
    }
   ],
   "source": [
    "generateDomainParameters(60)"
   ]
  },
  {
   "cell_type": "code",
   "execution_count": null,
   "metadata": {},
   "outputs": [],
   "source": []
  }
 ],
 "metadata": {
  "kernelspec": {
   "display_name": "SageMath 9.0",
   "language": "sage",
   "name": "sagemath"
  },
  "language_info": {
   "codemirror_mode": {
    "name": "ipython",
    "version": 3
   },
   "file_extension": ".py",
   "mimetype": "text/x-python",
   "name": "python",
   "nbconvert_exporter": "python",
   "pygments_lexer": "ipython3",
   "version": "3.7.3"
  }
 },
 "nbformat": 4,
 "nbformat_minor": 2
}
